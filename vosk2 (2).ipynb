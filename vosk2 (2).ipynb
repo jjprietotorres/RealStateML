{
 "cells": [
  {
   "cell_type": "code",
   "execution_count": null,
   "metadata": {},
   "outputs": [],
   "source": [
    "from vosk import Model, KaldiRecognizer, SpkModel\n",
    "import matplotlib.pyplot as plt\n",
    "%matplotlib inline\n",
    "import wave\n",
    "import csv\n",
    "import os\n",
    "from pydub import AudioSegment\n",
    "from NGrams_TFIDF_SimCoseno import *\n",
    "\n",
    "from wordcloud import WordCloud\n",
    "import nltk\n",
    "stopwords = nltk.corpus.stopwords.words('spanish')\n",
    "\n",
    "import numpy as np\n",
    "def cosine_dist(x, y):\n",
    "    nx = np.array(x)\n",
    "    ny = np.array(y)\n",
    "    return 1 - np.dot(nx, ny) / (np.linalg.norm(nx) * np.linalg.norm(ny))\n",
    "\n",
    "def totime(a):\n",
    "    h = int(a/3600)\n",
    "    a -= h*3600\n",
    "    m = int(a/60)\n",
    "    a -= m*60\n",
    "    s = int(a)\n",
    "    return '{:02.0f}:{:02.0f}:{:02.0f}'.format(h,m,s)\n",
    "\n",
    "sw = ['pues']\n",
    "for w in sw:\n",
    "    stopwords.append(w)"
   ]
  },
  {
   "cell_type": "markdown",
   "metadata": {},
   "source": [
    "# Grabar un audio"
   ]
  },
  {
   "cell_type": "code",
   "execution_count": null,
   "metadata": {},
   "outputs": [],
   "source": [
    "import pyaudio\n",
    "\n",
    "CHUNK = 1024\n",
    "FORMAT = pyaudio.paInt16\n",
    "CHANNELS = 1\n",
    "RATE = 44100\n",
    "RECORD_SECONDS = 6\n",
    "WAVE_OUTPUT_FILENAME = \"output.wav\"\n",
    "\n",
    "p = pyaudio.PyAudio()\n",
    "\n",
    "stream = p.open(format=FORMAT,\n",
    "                channels=CHANNELS,\n",
    "                rate=RATE,\n",
    "                input=True,\n",
    "                frames_per_buffer=CHUNK)\n",
    "\n",
    "print(\"* recording\")\n",
    "\n",
    "frames = []\n",
    "\n",
    "for i in range(0, int(RATE / CHUNK * RECORD_SECONDS)):\n",
    "    data = stream.read(CHUNK)\n",
    "    frames.append(data)\n",
    "\n",
    "print(\"* done recording\")\n",
    "\n",
    "stream.stop_stream()\n",
    "stream.close()\n",
    "p.terminate()\n",
    "\n",
    "wf = wave.open(WAVE_OUTPUT_FILENAME, 'wb')\n",
    "wf.setnchannels(CHANNELS)\n",
    "wf.setsampwidth(p.get_sample_size(FORMAT))\n",
    "wf.setframerate(RATE)\n",
    "wf.writeframes(b''.join(frames))\n",
    "wf.close()\n",
    "\n",
    "\n"
   ]
  },
  {
   "cell_type": "code",
   "execution_count": null,
   "metadata": {},
   "outputs": [],
   "source": [
    "#convierte a mono las pistas en estereo\n",
    "file='LongWelcome.wav'\n",
    "wf = wave.open(file, 'rb')\n",
    "if wf.getnchannels() != 1:\n",
    "    sound = AudioSegment.from_wav(file)\n",
    "    sound = sound.set_channels(1)\n",
    "    sound.export(file[:-4]+'_mono.wav', format='wav')"
   ]
  },
  {
   "cell_type": "markdown",
   "metadata": {},
   "source": [
    "# Transcribe una grabación"
   ]
  },
  {
   "cell_type": "code",
   "execution_count": null,
   "metadata": {},
   "outputs": [],
   "source": [
    "spk_model_path = 'vosk-model-spk-0.4'\n",
    "model_path     = 'vosk-model-small-es-0.3'\n",
    "#model_path     = 'vosk-model-en-us-aspire-0.2'\n",
    "\n",
    "\n",
    "path = '.\\\\waves\\\\'\n",
    "file = 'Gema_Molina'\n",
    "file = 'guitarra'\n",
    "\n",
    "wf = wave.open(path+file+'.wav', 'rb')\n",
    "rate     = wf.getframerate()\n",
    "if wf.getnchannels() != 1 or wf.getsampwidth() != 2 or wf.getcomptype() != \"NONE\":\n",
    "    print (\"Audio file must be WAV format mono PCM.\")\n",
    "    exit (1)\n",
    "\n",
    "model = Model(model_path)\n",
    "spk_model = SpkModel(spk_model_path)\n",
    "rec = KaldiRecognizer(model, spk_model, wf.getframerate())\n",
    "\n",
    "tim = '00:00:00'\n",
    "transcript = []\n",
    "with open(path+file+'.csv', mode='w', newline='') as csv_file:\n",
    "    writer = csv.writer(csv_file, delimiter=',')\n",
    "    while True:\n",
    "        data = wf.readframes(4000)\n",
    "        if len(data) == 0:\n",
    "            break\n",
    "        if rec.AcceptWaveform(data):\n",
    "            res = rec.FinalResult()\n",
    "            text = eval(res)['text']\n",
    "            print (tim, text)\n",
    "\n",
    "            writer.writerow([tim, text+' '])\n",
    "\n",
    "            transcript.append([tim, text])\n",
    "            tim= totime(wf.tell()/rate)\n"
   ]
  },
  {
   "cell_type": "markdown",
   "metadata": {},
   "source": [
    "# Analiza transcripción y busca coincidencias"
   ]
  },
  {
   "cell_type": "code",
   "execution_count": null,
   "metadata": {
    "scrolled": true
   },
   "outputs": [],
   "source": [
    "expresion = 'guitarra'\n",
    "file      = 'guitarra'\n",
    "\n",
    "transcript=[]\n",
    "with open(path+file+'.csv', mode='r', newline='') as csv_file:\n",
    "    reader = csv.reader(csv_file, delimiter=',')\n",
    "    for row in reader:\n",
    "        tim, text = row[0], row[1]\n",
    "        transcript.append([tim, text])\n",
    "\n",
    "matches    = []\n",
    "fulltext   = ''\n",
    "print ('Buscando   \"', expresion, '\"\\n')\n",
    "for  tim, text in transcript:\n",
    "    t, dist = Rebeca(expresion, text)\n",
    "    if dist>65:\n",
    "        matches.append([tim, text])\n",
    "        print(tim, text, '\\n')\n",
    "    fulltext += text.capitalize() \n",
    "\n",
    "if len(matches)==0:\n",
    "    print ('...No encontrado')"
   ]
  },
  {
   "cell_type": "markdown",
   "metadata": {},
   "source": [
    "# Word Cloud"
   ]
  },
  {
   "cell_type": "code",
   "execution_count": null,
   "metadata": {},
   "outputs": [],
   "source": [
    "wordcloud = WordCloud(width = 3000, height = 2000, random_state=1, \n",
    "                      background_color='lavender', colormap='Set2', \n",
    "                      collocations=True, stopwords = stopwords).generate(fulltext)\n",
    "\n",
    "plt.figure(figsize=(30, 20))\n",
    "plt.imshow(wordcloud) \n",
    "plt.axis(\"off\")"
   ]
  },
  {
   "cell_type": "code",
   "execution_count": null,
   "metadata": {},
   "outputs": [],
   "source": []
  }
 ],
 "metadata": {
  "kernelspec": {
   "display_name": "Python 3",
   "language": "python",
   "name": "python3"
  },
  "language_info": {
   "codemirror_mode": {
    "name": "ipython",
    "version": 3
   },
   "file_extension": ".py",
   "mimetype": "text/x-python",
   "name": "python",
   "nbconvert_exporter": "python",
   "pygments_lexer": "ipython3",
   "version": "3.6.5"
  }
 },
 "nbformat": 4,
 "nbformat_minor": 2
}
